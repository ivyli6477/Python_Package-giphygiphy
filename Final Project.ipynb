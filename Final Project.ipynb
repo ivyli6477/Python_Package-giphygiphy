{
 "cells": [
  {
   "cell_type": "markdown",
   "metadata": {},
   "source": [
    "# \"Treat yo'elf to some Christmas GIFs.\"\n",
    "Xinran Li - Final Project (Option A: Functional / API Project)\n"
   ]
  },
  {
   "cell_type": "markdown",
   "metadata": {},
   "source": [
    "### Brief description of the purpose\n",
    "This Python package is aimed to help user in better navigating a popular GIF online library - [**GIPHY**](https://giphy.com/), featuring the latest trend in entertainment, sports, and breaking news. Package functionalities include getting the relevant GIFs by searching key-terms, getting the lastest trending GIFs online, and displaying a random GIFs, etc. While this package may need the user to obtain an API Key to run, there is a lot of room for the users to play around with.\n",
    "\n",
    "### Relevant Links\n",
    "Link to my repo: https://github.com/ivyli6477/giphygiphy/tree/main/Final_Project\n",
    "\n",
    "Link to TestPypi Package: https://test.pypi.org/project/giphygiphy/\n",
    "\n",
    "API Documentation: https://developers.giphy.com/docs/api\n",
    "\n",
    "Apply for an API Key:\n",
    "1. Create a GIPHY API Key by clicking “Create an App” on the [Developer Dashboard](https://developers.giphy.com/dashboard/) (you need to create an account first). Note: All API Keys start as beta keys, which are rate limited (42 reads per hour and 1000 searches/API calls per day.)\n",
    "2. Create separate keys for each platform (iOS, Android, Web) and section. If you’re using a GIPHY integration in different sections of your app, GIPHY requires that each use of our service be delineated by a different key for each section per platform."
   ]
  },
  {
   "cell_type": "markdown",
   "metadata": {},
   "source": [
    "### Installing Testing Package"
   ]
  },
  {
   "cell_type": "code",
   "execution_count": 20,
   "metadata": {
    "scrolled": true
   },
   "outputs": [
    {
     "name": "stdout",
     "output_type": "stream",
     "text": [
      "\u001b[33mDEPRECATION: Configuring installation scheme with distutils config files is deprecated and will no longer work in the near future. If you are using a Homebrew or Linuxbrew Python, please see discussion at https://github.com/Homebrew/homebrew-core/issues/76621\u001b[0m\n",
      "Looking in indexes: https://test.pypi.org/simple/\n",
      "Requirement already satisfied: giphygiphy in /usr/local/lib/python3.9/site-packages (0.1.0)\n",
      "Requirement already satisfied: python-dotenv[cli]<0.20.0,>=0.19.2 in /usr/local/lib/python3.9/site-packages (from giphygiphy) (0.19.2)\n",
      "Requirement already satisfied: pandas<2.0.0,>=1.3.5 in /usr/local/lib/python3.9/site-packages (from giphygiphy) (1.3.5)\n",
      "Requirement already satisfied: numpy>=1.17.3 in /usr/local/lib/python3.9/site-packages (from pandas<2.0.0,>=1.3.5->giphygiphy) (1.21.4)\n",
      "Requirement already satisfied: python-dateutil>=2.7.3 in /usr/local/lib/python3.9/site-packages (from pandas<2.0.0,>=1.3.5->giphygiphy) (2.8.2)\n",
      "Requirement already satisfied: pytz>=2017.3 in /usr/local/lib/python3.9/site-packages (from pandas<2.0.0,>=1.3.5->giphygiphy) (2021.3)\n",
      "Requirement already satisfied: click>=5.0 in /usr/local/lib/python3.9/site-packages (from python-dotenv[cli]<0.20.0,>=0.19.2->giphygiphy) (8.0.3)\n",
      "Requirement already satisfied: six>=1.5 in /usr/local/lib/python3.9/site-packages (from python-dateutil>=2.7.3->pandas<2.0.0,>=1.3.5->giphygiphy) (1.16.0)\n"
     ]
    }
   ],
   "source": [
    "!pip install -i https://test.pypi.org/simple/ giphygiphy"
   ]
  },
  {
   "cell_type": "code",
   "execution_count": 24,
   "metadata": {
    "scrolled": true
   },
   "outputs": [],
   "source": [
    "import giphygiphy.src.giphygiphy as giphygiphy\n",
    "import requests\n",
    "import os\n",
    "import json\n",
    "import pandas as pd\n",
    "import numpy as np\n",
    "import IPython\n",
    "import warnings\n",
    "from IPython.display import Image, HTML\n",
    "MY_KEY = os.environ.get(\"giphy_api_key\")\n",
    "warnings.filterwarnings(\"ignore\")\n",
    "\n",
    "from dotenv import load_dotenv, find_dotenv\n",
    "load_dotenv()\n",
    "MY_KEY = os.environ.get(\"giphy_api_key\")"
   ]
  },
  {
   "cell_type": "markdown",
   "metadata": {},
   "source": [
    "### Functionality 1 - get_info( )"
   ]
  },
  {
   "cell_type": "code",
   "execution_count": 43,
   "metadata": {},
   "outputs": [
    {
     "name": "stdout",
     "output_type": "stream",
     "text": [
      "Help on function get_info in module giphygiphy.src.giphygiphy.giphygiphy:\n",
      "\n",
      "get_info(params)\n",
      "    Get the fullest information from the latest trending gifs online, including info such as unique ID,\n",
      "    name of the gif, author, and url.\n",
      "    \n",
      "    Parameters\n",
      "    ----------\n",
      "    api_key : (required) a string, personal API Key obtained through GIPHY;\n",
      "    limit   : an integer, maximum number of objects to return;\n",
      "    rating  : a string, filtering the results by rating g, pg, pg-13, and r (No specification = no filter);\n",
      "            \n",
      "    Returns\n",
      "    -------\n",
      "    A dataframe containing Gif ID, Title, Rating, Author, Date created on, URL, Source URL.\n",
      "    \n",
      "    \n",
      "    Examples\n",
      "    --------\n",
      "    >>> from giphygiphy import giphygiphy\n",
      "    >>> params = {'api_key':MY_KEY, 'limit': 5, \"rating\": \"g\"}\n",
      "    >>> giphygiphy.get_info(params)\n",
      "    ID  Title   Rating  Author  Created on      URL     Source URL\n",
      "    0   nSDfhKd9gU4iCK9o2n      Jason Statham Manager GIF by Operation Fortune  g       OperationFortune        2021-12-10 00:01:09 https://gph.is/g/4DMxxvP    \n",
      "    1   PLiW6toBco3wu2lqY0      Tired Good Night GIF by Muffin & Nuts   g       muffinnuts      2021-07-16 08:42:03     https://gph.is/g/Zr8lOey        \n",
      "    2   PCzENn4nBHUnvsLJUN      Will Forte Snl GIF by MacGruber g       MacGruber       2021-11-15 20:37:45     https://gph.is/g/E1BQB01        https://www.peacocktv.com/\n",
      "    3   xUOxfcsFhVkd0UOsdW      Happy Birthday Reaction GIF     g               2017-11-06 21:40:24     http://gph.is/2ha7xvc   https://media.giphy.com/media/6nuiJjOOQBBn2/gi...\n",
      "    4   h0RyoXY6Pp5O5nrl2K      I Love You GIF  g       dotdave 2021-11-11 11:52:45     https://gph.is/g/ZlrQq5K        https://www.3danimatedgifs.com/\n",
      "\n"
     ]
    }
   ],
   "source": [
    "help(giphygiphy.get_info)"
   ]
  },
  {
   "cell_type": "code",
   "execution_count": 26,
   "metadata": {
    "scrolled": true
   },
   "outputs": [
    {
     "data": {
      "text/html": [
       "<div>\n",
       "<style scoped>\n",
       "    .dataframe tbody tr th:only-of-type {\n",
       "        vertical-align: middle;\n",
       "    }\n",
       "\n",
       "    .dataframe tbody tr th {\n",
       "        vertical-align: top;\n",
       "    }\n",
       "\n",
       "    .dataframe thead th {\n",
       "        text-align: right;\n",
       "    }\n",
       "</style>\n",
       "<table border=\"1\" class=\"dataframe\">\n",
       "  <thead>\n",
       "    <tr style=\"text-align: right;\">\n",
       "      <th></th>\n",
       "      <th>ID</th>\n",
       "      <th>Title</th>\n",
       "      <th>Rating</th>\n",
       "      <th>Author</th>\n",
       "      <th>Created on</th>\n",
       "      <th>URL</th>\n",
       "      <th>Source URL</th>\n",
       "      <th>Embed URL</th>\n",
       "    </tr>\n",
       "  </thead>\n",
       "  <tbody>\n",
       "    <tr>\n",
       "      <th>0</th>\n",
       "      <td>q2J6zNFWFn1ekZI8i4</td>\n",
       "      <td>Meagan Good Dancing GIF by Harlem</td>\n",
       "      <td>g</td>\n",
       "      <td>Harlemonprime</td>\n",
       "      <td>2021-12-03 17:47:31</td>\n",
       "      <td>https://gph.is/g/Z5OO23p</td>\n",
       "      <td>http://bit.ly/harlemonprime</td>\n",
       "      <td>https://giphy.com/embed/q2J6zNFWFn1ekZI8i4</td>\n",
       "    </tr>\n",
       "    <tr>\n",
       "      <th>1</th>\n",
       "      <td>xUOxfcsFhVkd0UOsdW</td>\n",
       "      <td>Happy Birthday Reaction GIF</td>\n",
       "      <td>g</td>\n",
       "      <td></td>\n",
       "      <td>2017-11-06 21:40:24</td>\n",
       "      <td>http://gph.is/2ha7xvc</td>\n",
       "      <td>https://media.giphy.com/media/6nuiJjOOQBBn2/gi...</td>\n",
       "      <td>https://giphy.com/embed/xUOxfcsFhVkd0UOsdW</td>\n",
       "    </tr>\n",
       "    <tr>\n",
       "      <th>2</th>\n",
       "      <td>HHGfpiOSU2DethddG3</td>\n",
       "      <td>Go Away Goodbye GIF by Harlem</td>\n",
       "      <td>g</td>\n",
       "      <td>Harlemonprime</td>\n",
       "      <td>2021-12-03 17:48:15</td>\n",
       "      <td>https://gph.is/g/E1BBgLe</td>\n",
       "      <td>http://bit.ly/harlemonprime</td>\n",
       "      <td>https://giphy.com/embed/HHGfpiOSU2DethddG3</td>\n",
       "    </tr>\n",
       "    <tr>\n",
       "      <th>3</th>\n",
       "      <td>8TIqYQtaAPYV5VdZwS</td>\n",
       "      <td>Greeting Good Morning GIF by JellaCreative</td>\n",
       "      <td>g</td>\n",
       "      <td>JellaCreative</td>\n",
       "      <td>2021-06-17 13:26:36</td>\n",
       "      <td>https://gph.is/g/EJXr0xN</td>\n",
       "      <td>https://jellacreative.com/</td>\n",
       "      <td>https://giphy.com/embed/8TIqYQtaAPYV5VdZwS</td>\n",
       "    </tr>\n",
       "    <tr>\n",
       "      <th>4</th>\n",
       "      <td>MDxJnL1GGnuALMFu2e</td>\n",
       "      <td>Meme Thumbs Up GIF by JustViral</td>\n",
       "      <td>g</td>\n",
       "      <td>justviralnet</td>\n",
       "      <td>2020-03-12 17:21:34</td>\n",
       "      <td>https://gph.is/g/4oL0V8K</td>\n",
       "      <td>https://www.justviral.net/46-funny-images-that...</td>\n",
       "      <td>https://giphy.com/embed/MDxJnL1GGnuALMFu2e</td>\n",
       "    </tr>\n",
       "  </tbody>\n",
       "</table>\n",
       "</div>"
      ],
      "text/plain": [
       "                   ID                                       Title Rating  \\\n",
       "0  q2J6zNFWFn1ekZI8i4           Meagan Good Dancing GIF by Harlem      g   \n",
       "1  xUOxfcsFhVkd0UOsdW                 Happy Birthday Reaction GIF      g   \n",
       "2  HHGfpiOSU2DethddG3               Go Away Goodbye GIF by Harlem      g   \n",
       "3  8TIqYQtaAPYV5VdZwS  Greeting Good Morning GIF by JellaCreative      g   \n",
       "4  MDxJnL1GGnuALMFu2e             Meme Thumbs Up GIF by JustViral      g   \n",
       "\n",
       "          Author           Created on                       URL  \\\n",
       "0  Harlemonprime  2021-12-03 17:47:31  https://gph.is/g/Z5OO23p   \n",
       "1                 2017-11-06 21:40:24     http://gph.is/2ha7xvc   \n",
       "2  Harlemonprime  2021-12-03 17:48:15  https://gph.is/g/E1BBgLe   \n",
       "3  JellaCreative  2021-06-17 13:26:36  https://gph.is/g/EJXr0xN   \n",
       "4   justviralnet  2020-03-12 17:21:34  https://gph.is/g/4oL0V8K   \n",
       "\n",
       "                                          Source URL  \\\n",
       "0                        http://bit.ly/harlemonprime   \n",
       "1  https://media.giphy.com/media/6nuiJjOOQBBn2/gi...   \n",
       "2                        http://bit.ly/harlemonprime   \n",
       "3                         https://jellacreative.com/   \n",
       "4  https://www.justviral.net/46-funny-images-that...   \n",
       "\n",
       "                                    Embed URL  \n",
       "0  https://giphy.com/embed/q2J6zNFWFn1ekZI8i4  \n",
       "1  https://giphy.com/embed/xUOxfcsFhVkd0UOsdW  \n",
       "2  https://giphy.com/embed/HHGfpiOSU2DethddG3  \n",
       "3  https://giphy.com/embed/8TIqYQtaAPYV5VdZwS  \n",
       "4  https://giphy.com/embed/MDxJnL1GGnuALMFu2e  "
      ]
     },
     "execution_count": 26,
     "metadata": {},
     "output_type": "execute_result"
    }
   ],
   "source": [
    "#get_info(params)\n",
    "params1 = {'api_key':MY_KEY, 'limit': 5, \"rating\": \"g\"}\n",
    "giphygiphy.get_info(params1)\n"
   ]
  },
  {
   "cell_type": "markdown",
   "metadata": {},
   "source": [
    "### Functionality 2 - search( )"
   ]
  },
  {
   "cell_type": "code",
   "execution_count": 44,
   "metadata": {},
   "outputs": [
    {
     "name": "stdout",
     "output_type": "stream",
     "text": [
      "Help on function search in module giphygiphy.src.giphygiphy.giphygiphy:\n",
      "\n",
      "search(params)\n",
      "    Get the fullest useful information for gifs online based on the user search term, including info such as unique ID,\n",
      "    name of the gif, author, and url.\n",
      "    \n",
      "    Parameters\n",
      "    ----------\n",
      "    api_key : (required) a string, personal API Key obtained through GIPHY\n",
      "    q       : (required) a string, search query term or phrase\n",
      "    limit   : an integer, maximum number of objects to return\n",
      "    rating  : a string, filtering the results by rating include g, pg, pg-13, r. No specification = no filter\n",
      "            \n",
      "    Returns\n",
      "    -------\n",
      "    A dataframe containing Gif ID, Title, Rating, Author, Date created on, URL, Source URL.\n",
      "    \n",
      "    \n",
      "    Examples\n",
      "    --------\n",
      "    >>> from giphygiphy import giphygiphy\n",
      "    >>> params = {'api_key':MY_KEY, 'q': \"finals week\", \"limit\":3}\n",
      "    >>> giphygiphy.search(params)\n",
      "    ID  Title   Rating  Author  Created on      URL     Source URL\n",
      "    0   lChoLVeVhUDYYSOECk      Studying Sun Devils GIF by Arizona State Unive...       g       ASUofficial     2020-12-03 22:46:45     https://gph.is/g/Z2po3AW        www.asu.edu\n",
      "    1   uovsUbA0WPcSQ   study hard college life GIF by MTVU     pg      MTVU    2017-05-09 21:06:10     http://gph.is/2psYd7r   \n",
      "    2   gJMLefNc8YpSW3wIYD      School College GIF by GIPHY Studios Originals   g       studiosoriginals        2021-05-05 22:13:44     https://gph.is/g/4wYQoG2\n",
      "\n"
     ]
    }
   ],
   "source": [
    "help(giphygiphy.search)"
   ]
  },
  {
   "cell_type": "code",
   "execution_count": 27,
   "metadata": {
    "scrolled": false
   },
   "outputs": [
    {
     "data": {
      "text/html": [
       "<div>\n",
       "<style scoped>\n",
       "    .dataframe tbody tr th:only-of-type {\n",
       "        vertical-align: middle;\n",
       "    }\n",
       "\n",
       "    .dataframe tbody tr th {\n",
       "        vertical-align: top;\n",
       "    }\n",
       "\n",
       "    .dataframe thead th {\n",
       "        text-align: right;\n",
       "    }\n",
       "</style>\n",
       "<table border=\"1\" class=\"dataframe\">\n",
       "  <thead>\n",
       "    <tr style=\"text-align: right;\">\n",
       "      <th></th>\n",
       "      <th>ID</th>\n",
       "      <th>Title</th>\n",
       "      <th>Rating</th>\n",
       "      <th>Author</th>\n",
       "      <th>Created on</th>\n",
       "      <th>URL</th>\n",
       "      <th>Source URL</th>\n",
       "      <th>Embed URL</th>\n",
       "    </tr>\n",
       "  </thead>\n",
       "  <tbody>\n",
       "    <tr>\n",
       "      <th>0</th>\n",
       "      <td>lChoLVeVhUDYYSOECk</td>\n",
       "      <td>Studying Sun Devils GIF by Arizona State Unive...</td>\n",
       "      <td>g</td>\n",
       "      <td>ASUofficial</td>\n",
       "      <td>2020-12-03 22:46:45</td>\n",
       "      <td>https://gph.is/g/Z2po3AW</td>\n",
       "      <td>www.asu.edu</td>\n",
       "      <td>https://giphy.com/embed/lChoLVeVhUDYYSOECk</td>\n",
       "    </tr>\n",
       "    <tr>\n",
       "      <th>1</th>\n",
       "      <td>uovsUbA0WPcSQ</td>\n",
       "      <td>study hard college life GIF by MTVU</td>\n",
       "      <td>pg</td>\n",
       "      <td>MTVU</td>\n",
       "      <td>2017-05-09 21:06:10</td>\n",
       "      <td>http://gph.is/2psYd7r</td>\n",
       "      <td></td>\n",
       "      <td>https://giphy.com/embed/uovsUbA0WPcSQ</td>\n",
       "    </tr>\n",
       "    <tr>\n",
       "      <th>2</th>\n",
       "      <td>gJMLefNc8YpSW3wIYD</td>\n",
       "      <td>School College GIF by GIPHY Studios Originals</td>\n",
       "      <td>g</td>\n",
       "      <td>studiosoriginals</td>\n",
       "      <td>2021-05-05 22:13:44</td>\n",
       "      <td>https://gph.is/g/4wYQoG2</td>\n",
       "      <td></td>\n",
       "      <td>https://giphy.com/embed/gJMLefNc8YpSW3wIYD</td>\n",
       "    </tr>\n",
       "  </tbody>\n",
       "</table>\n",
       "</div>"
      ],
      "text/plain": [
       "                   ID                                              Title  \\\n",
       "0  lChoLVeVhUDYYSOECk  Studying Sun Devils GIF by Arizona State Unive...   \n",
       "1       uovsUbA0WPcSQ                study hard college life GIF by MTVU   \n",
       "2  gJMLefNc8YpSW3wIYD      School College GIF by GIPHY Studios Originals   \n",
       "\n",
       "  Rating            Author           Created on                       URL  \\\n",
       "0      g       ASUofficial  2020-12-03 22:46:45  https://gph.is/g/Z2po3AW   \n",
       "1     pg              MTVU  2017-05-09 21:06:10     http://gph.is/2psYd7r   \n",
       "2      g  studiosoriginals  2021-05-05 22:13:44  https://gph.is/g/4wYQoG2   \n",
       "\n",
       "    Source URL                                   Embed URL  \n",
       "0  www.asu.edu  https://giphy.com/embed/lChoLVeVhUDYYSOECk  \n",
       "1                    https://giphy.com/embed/uovsUbA0WPcSQ  \n",
       "2               https://giphy.com/embed/gJMLefNc8YpSW3wIYD  "
      ]
     },
     "execution_count": 27,
     "metadata": {},
     "output_type": "execute_result"
    }
   ],
   "source": [
    "# search(params)\n",
    "params2 = {'api_key':MY_KEY, 'q': \"finals week\", \"limit\":3}\n",
    "giphygiphy.search(params2)\n"
   ]
  },
  {
   "cell_type": "markdown",
   "metadata": {},
   "source": [
    "### Functionality 3 - display_by( )"
   ]
  },
  {
   "cell_type": "code",
   "execution_count": 45,
   "metadata": {},
   "outputs": [
    {
     "name": "stdout",
     "output_type": "stream",
     "text": [
      "Help on function display_by in module giphygiphy.src.giphygiphy.giphygiphy:\n",
      "\n",
      "display_by(params)\n",
      "    Display a most relevant gif in jupyter notebook based on words or phrases inputed by the users, could be adjust by 'weirdness'.\n",
      "    \n",
      "    Parameters\n",
      "    ----------\n",
      "    api_key  : (required) a string, personal API Key obtained through GIPHY\n",
      "    s        : (required) a string, search query term or phrase\n",
      "    weirdness: an int, 0-10 scale, the higher it is the weirder it goes\n",
      "    \n",
      "    Returns\n",
      "    -------\n",
      "    Displaying a gif embeded in jupyter notebook with URL displayed\n",
      "    \n",
      "    \n",
      "    Examples\n",
      "    --------\n",
      "    >>> from giphygiphy import giphygiphy\n",
      "    >>> params = {'api_key':MY_KEY, 's': \"dog in fire\", \"weirdness\":0}\n",
      "    >>> giphygiphy.display_by(params)\n",
      "    https://giphy.com/embed/UKF08uKqWch0Y\n",
      "    <gif displayed here>\n",
      "\n"
     ]
    }
   ],
   "source": [
    "help(giphygiphy.display_by)"
   ]
  },
  {
   "cell_type": "code",
   "execution_count": 31,
   "metadata": {
    "scrolled": false
   },
   "outputs": [
    {
     "name": "stdout",
     "output_type": "stream",
     "text": [
      "https://giphy.com/embed/NTur7XlVDUdqM\n"
     ]
    },
    {
     "data": {
      "text/html": [
       "<iframe src=https://giphy.com/embed/NTur7XlVDUdqM width=700 height=350></iframe>"
      ],
      "text/plain": [
       "<IPython.core.display.HTML object>"
      ]
     },
     "execution_count": 31,
     "metadata": {},
     "output_type": "execute_result"
    }
   ],
   "source": [
    "# display_by(params)\n",
    "params3 = {'api_key':MY_KEY, 's': \"dog in fire\", \"weirdness\":5}\n",
    "giphygiphy.display_by(params3)\n"
   ]
  },
  {
   "cell_type": "markdown",
   "metadata": {},
   "source": [
    "### Functionality 4 - random( )"
   ]
  },
  {
   "cell_type": "code",
   "execution_count": 46,
   "metadata": {},
   "outputs": [
    {
     "name": "stdout",
     "output_type": "stream",
     "text": [
      "Help on function random in module giphygiphy.src.giphygiphy.giphygiphy:\n",
      "\n",
      "random(params)\n",
      "    Get information for a completely random gif in GIPHY library\n",
      "    \n",
      "    Parameters\n",
      "    ----------\n",
      "    api_key : (required) a string, personal API Key obtained through GIPHY\n",
      "            \n",
      "    Returns\n",
      "    -------\n",
      "    A one row dataframe containing Gif ID, Title, Rating, Author, Date created on, URL, Source URL, Embed URL.\n",
      "    \n",
      "    \n",
      "    Examples\n",
      "    --------\n",
      "    >>> from giphygiphy import giphygiphy\n",
      "    >>> params = {'api_key':MY_KEY}\n",
      "    >>> giphygiphy.random(params)\n",
      "        ID      Title   Rating  Author  Created on      URL     Source URL      Embed URL\n",
      "        hd      AvPJoxrwK1UmkQNuEj      Womens Basketball GIF by Basketfem      g       basketfem       2021-09-19 08:53:27     https://gph.is/g/Z7v95Dp                https://giphy.com/embed/AvPJoxrwK1UmkQNuEj\n",
      "\n"
     ]
    }
   ],
   "source": [
    "help(giphygiphy.random)"
   ]
  },
  {
   "cell_type": "code",
   "execution_count": 32,
   "metadata": {
    "scrolled": false
   },
   "outputs": [
    {
     "data": {
      "text/html": [
       "<div>\n",
       "<style scoped>\n",
       "    .dataframe tbody tr th:only-of-type {\n",
       "        vertical-align: middle;\n",
       "    }\n",
       "\n",
       "    .dataframe tbody tr th {\n",
       "        vertical-align: top;\n",
       "    }\n",
       "\n",
       "    .dataframe thead th {\n",
       "        text-align: right;\n",
       "    }\n",
       "</style>\n",
       "<table border=\"1\" class=\"dataframe\">\n",
       "  <thead>\n",
       "    <tr style=\"text-align: right;\">\n",
       "      <th></th>\n",
       "      <th>ID</th>\n",
       "      <th>Title</th>\n",
       "      <th>Rating</th>\n",
       "      <th>Author</th>\n",
       "      <th>Created on</th>\n",
       "      <th>URL</th>\n",
       "      <th>Source URL</th>\n",
       "      <th>Embed URL</th>\n",
       "    </tr>\n",
       "  </thead>\n",
       "  <tbody>\n",
       "    <tr>\n",
       "      <th>downsized_large</th>\n",
       "      <td>N9cdF3uZNVoNtG8szW</td>\n",
       "      <td></td>\n",
       "      <td>g</td>\n",
       "      <td>AceitesLaMasia</td>\n",
       "      <td>2021-05-13 09:34:35</td>\n",
       "      <td>https://gph.is/g/apKjnAW</td>\n",
       "      <td>https://www.lamasia.es</td>\n",
       "      <td>https://giphy.com/embed/N9cdF3uZNVoNtG8szW</td>\n",
       "    </tr>\n",
       "  </tbody>\n",
       "</table>\n",
       "</div>"
      ],
      "text/plain": [
       "                                 ID Title Rating          Author  \\\n",
       "downsized_large  N9cdF3uZNVoNtG8szW            g  AceitesLaMasia   \n",
       "\n",
       "                          Created on                       URL  \\\n",
       "downsized_large  2021-05-13 09:34:35  https://gph.is/g/apKjnAW   \n",
       "\n",
       "                             Source URL  \\\n",
       "downsized_large  https://www.lamasia.es   \n",
       "\n",
       "                                                  Embed URL  \n",
       "downsized_large  https://giphy.com/embed/N9cdF3uZNVoNtG8szW  "
      ]
     },
     "execution_count": 32,
     "metadata": {},
     "output_type": "execute_result"
    }
   ],
   "source": [
    "# random(params)\n",
    "params4 = {'api_key':MY_KEY}\n",
    "giphygiphy.random(params4)\n"
   ]
  },
  {
   "cell_type": "markdown",
   "metadata": {},
   "source": [
    "### Functionality 5 - display_random( )"
   ]
  },
  {
   "cell_type": "code",
   "execution_count": 47,
   "metadata": {},
   "outputs": [
    {
     "name": "stdout",
     "output_type": "stream",
     "text": [
      "Help on function display_random in module giphygiphy.src.giphygiphy.giphygiphy:\n",
      "\n",
      "display_random(params)\n",
      "    Display a completely random gif in the GIPHY library\n",
      "    \n",
      "    Parameters\n",
      "    ----------\n",
      "    api_key  : (required) a string, personal API Key obtained through GIPHY\n",
      "    \n",
      "    Returns\n",
      "    -------\n",
      "    Displaying a gif embeded in jupyter notebook with URL displayed\n",
      "    \n",
      "    \n",
      "    Examples\n",
      "    --------\n",
      "    >>> from giphygiphy import giphygiphy\n",
      "    >>> params = {'api_key':MY_KEY}\n",
      "    >>> giphygiphy.display_random(params)\n",
      "    https://giphy.com/embed/Z2A5txD62TwE5JeBua\n",
      "    <gif displayed here>\n",
      "\n"
     ]
    }
   ],
   "source": [
    "help(giphygiphy.display_random)"
   ]
  },
  {
   "cell_type": "code",
   "execution_count": 38,
   "metadata": {
    "scrolled": false
   },
   "outputs": [
    {
     "name": "stdout",
     "output_type": "stream",
     "text": [
      "https://giphy.com/embed/wX4Bd1FzKtx12yp8hs\n"
     ]
    },
    {
     "data": {
      "text/html": [
       "<iframe src=https://giphy.com/embed/wX4Bd1FzKtx12yp8hs width=700 height=350></iframe>"
      ],
      "text/plain": [
       "<IPython.core.display.HTML object>"
      ]
     },
     "execution_count": 38,
     "metadata": {},
     "output_type": "execute_result"
    }
   ],
   "source": [
    "# display_random(params)\n",
    "params5 = {'api_key':MY_KEY}\n",
    "giphygiphy.display_random(params5)\n"
   ]
  },
  {
   "cell_type": "markdown",
   "metadata": {},
   "source": [
    "### Functionality 6 - id_info( )"
   ]
  },
  {
   "cell_type": "code",
   "execution_count": 48,
   "metadata": {},
   "outputs": [
    {
     "name": "stdout",
     "output_type": "stream",
     "text": [
      "Help on function id_info in module giphygiphy.src.giphygiphy.giphygiphy:\n",
      "\n",
      "id_info(params)\n",
      "    Get information for specific Gifs based on the specified IDs input by the users\n",
      "    \n",
      "    Parameters\n",
      "    ----------\n",
      "    api_key : (required) a string, personal API Key obtained through GIPHY;\n",
      "    ids     : (required) a string, filters results by specificed GIF IDs, separated by commas;\n",
      "            \n",
      "    Returns\n",
      "    -------\n",
      "    A dataframe containing Gif ID, Title, Rating, Author, Date created on, URL, Source URL.\n",
      "    \n",
      "    \n",
      "    Examples\n",
      "    --------\n",
      "    >>> from giphygiphy import giphygiphy\n",
      "    >>> params = {'api_key':MY_KEY, \"ids\":\"xT4uQulxzV39haRFjG, AvPJoxrwK1UmkQNuEj\"}\n",
      "    >>> giphygiphy.id_info(params)\n",
      "        ID      Title   Rating  Author  Created on      URL     Source URL      Embed URL\n",
      "        0       xT4uQulxzV39haRFjG      Happy Cinco De Mayo GIF by Ethan Barnowsky      pg      ethanbarnowsky  2016-05-05 14:25:59     http://gph.is/1ZhShKr   www.ethanbarnowsky.com  https://giphy.com/embed/xT4uQulxzV39haRFjG\n",
      "        1       AvPJoxrwK1UmkQNuEj      Womens Basketball GIF by Basketfem      g       basketfem       2021-09-19 08:53:27     https://gph.is/g/Z7v95Dp                https://giphy.com/embed/AvPJoxrwK1UmkQNuEj\n",
      "\n"
     ]
    }
   ],
   "source": [
    "help(giphygiphy.id_info)"
   ]
  },
  {
   "cell_type": "code",
   "execution_count": 39,
   "metadata": {
    "scrolled": false
   },
   "outputs": [
    {
     "data": {
      "text/html": [
       "<div>\n",
       "<style scoped>\n",
       "    .dataframe tbody tr th:only-of-type {\n",
       "        vertical-align: middle;\n",
       "    }\n",
       "\n",
       "    .dataframe tbody tr th {\n",
       "        vertical-align: top;\n",
       "    }\n",
       "\n",
       "    .dataframe thead th {\n",
       "        text-align: right;\n",
       "    }\n",
       "</style>\n",
       "<table border=\"1\" class=\"dataframe\">\n",
       "  <thead>\n",
       "    <tr style=\"text-align: right;\">\n",
       "      <th></th>\n",
       "      <th>ID</th>\n",
       "      <th>Title</th>\n",
       "      <th>Rating</th>\n",
       "      <th>Author</th>\n",
       "      <th>Created on</th>\n",
       "      <th>URL</th>\n",
       "      <th>Source URL</th>\n",
       "      <th>Embed URL</th>\n",
       "    </tr>\n",
       "  </thead>\n",
       "  <tbody>\n",
       "    <tr>\n",
       "      <th>0</th>\n",
       "      <td>xT4uQulxzV39haRFjG</td>\n",
       "      <td>Happy Cinco De Mayo GIF by Ethan Barnowsky</td>\n",
       "      <td>pg</td>\n",
       "      <td>ethanbarnowsky</td>\n",
       "      <td>2016-05-05 14:25:59</td>\n",
       "      <td>http://gph.is/1ZhShKr</td>\n",
       "      <td>www.ethanbarnowsky.com</td>\n",
       "      <td>https://giphy.com/embed/xT4uQulxzV39haRFjG</td>\n",
       "    </tr>\n",
       "    <tr>\n",
       "      <th>1</th>\n",
       "      <td>AvPJoxrwK1UmkQNuEj</td>\n",
       "      <td>Womens Basketball GIF by Basketfem</td>\n",
       "      <td>g</td>\n",
       "      <td>basketfem</td>\n",
       "      <td>2021-09-19 08:53:27</td>\n",
       "      <td>https://gph.is/g/Z7v95Dp</td>\n",
       "      <td></td>\n",
       "      <td>https://giphy.com/embed/AvPJoxrwK1UmkQNuEj</td>\n",
       "    </tr>\n",
       "  </tbody>\n",
       "</table>\n",
       "</div>"
      ],
      "text/plain": [
       "                   ID                                       Title Rating  \\\n",
       "0  xT4uQulxzV39haRFjG  Happy Cinco De Mayo GIF by Ethan Barnowsky     pg   \n",
       "1  AvPJoxrwK1UmkQNuEj          Womens Basketball GIF by Basketfem      g   \n",
       "\n",
       "           Author           Created on                       URL  \\\n",
       "0  ethanbarnowsky  2016-05-05 14:25:59     http://gph.is/1ZhShKr   \n",
       "1       basketfem  2021-09-19 08:53:27  https://gph.is/g/Z7v95Dp   \n",
       "\n",
       "               Source URL                                   Embed URL  \n",
       "0  www.ethanbarnowsky.com  https://giphy.com/embed/xT4uQulxzV39haRFjG  \n",
       "1                          https://giphy.com/embed/AvPJoxrwK1UmkQNuEj  "
      ]
     },
     "execution_count": 39,
     "metadata": {},
     "output_type": "execute_result"
    }
   ],
   "source": [
    "# id_info(params)\n",
    "params6 = {'api_key':MY_KEY, \"ids\":\"xT4uQulxzV39haRFjG, AvPJoxrwK1UmkQNuEj\"}\n",
    "giphygiphy.id_info(params6)\n"
   ]
  },
  {
   "cell_type": "markdown",
   "metadata": {},
   "source": [
    "### Functionality 7 - trending( )"
   ]
  },
  {
   "cell_type": "code",
   "execution_count": 49,
   "metadata": {},
   "outputs": [
    {
     "name": "stdout",
     "output_type": "stream",
     "text": [
      "Help on function trending in module giphygiphy.src.giphygiphy.giphygiphy:\n",
      "\n",
      "trending(params)\n",
      "    Get a list of most popular trending search terms on GIPHY network\n",
      "    \n",
      "    Parameters\n",
      "    ----------\n",
      "    api_key : (required) a string, personal API Key obtained through GIPHY;\n",
      "            \n",
      "    Returns\n",
      "    -------\n",
      "    A dataframe containing Rankings and Trending Terms\n",
      "    \n",
      "    \n",
      "    Examples\n",
      "    --------\n",
      "    >>> from giphygiphy import giphygiphy\n",
      "    >>> params = {'api_key':MY_KEY}\n",
      "    >>> giphygiphy.trending(params)\n",
      "        Rankings Trending Term\n",
      "            1   grateful\n",
      "            2   friday morning\n",
      "            3   happy friday\n",
      "            4   fri-yay\n",
      "            5   happy anniversary\n",
      "            6   good morning\n",
      "            7   buenosdias\n",
      "            8   spiderman\n",
      "            9   merry christmas\n",
      "            10  beautiful\n",
      "            11  congratulations\n",
      "            12  prayers\n",
      "            13  thank\n",
      "            14  birthday\n",
      "            15  love\n",
      "            16  kiss\n",
      "            17  daniel\n",
      "            18  i love\n",
      "            19  dancing\n",
      "            20  christmas\n",
      "\n"
     ]
    }
   ],
   "source": [
    "help(giphygiphy.trending)"
   ]
  },
  {
   "cell_type": "code",
   "execution_count": 40,
   "metadata": {},
   "outputs": [
    {
     "data": {
      "text/html": [
       "<div>\n",
       "<style scoped>\n",
       "    .dataframe tbody tr th:only-of-type {\n",
       "        vertical-align: middle;\n",
       "    }\n",
       "\n",
       "    .dataframe tbody tr th {\n",
       "        vertical-align: top;\n",
       "    }\n",
       "\n",
       "    .dataframe thead th {\n",
       "        text-align: right;\n",
       "    }\n",
       "</style>\n",
       "<table border=\"1\" class=\"dataframe\">\n",
       "  <thead>\n",
       "    <tr style=\"text-align: right;\">\n",
       "      <th></th>\n",
       "      <th>Rankings</th>\n",
       "      <th>Trending Term</th>\n",
       "    </tr>\n",
       "  </thead>\n",
       "  <tbody>\n",
       "    <tr>\n",
       "      <th>0</th>\n",
       "      <td>1</td>\n",
       "      <td>maple syrup</td>\n",
       "    </tr>\n",
       "    <tr>\n",
       "      <th>1</th>\n",
       "      <td>2</td>\n",
       "      <td>christmas break</td>\n",
       "    </tr>\n",
       "    <tr>\n",
       "      <th>2</th>\n",
       "      <td>3</td>\n",
       "      <td>winter break</td>\n",
       "    </tr>\n",
       "    <tr>\n",
       "      <th>3</th>\n",
       "      <td>4</td>\n",
       "      <td>ugly sweater</td>\n",
       "    </tr>\n",
       "    <tr>\n",
       "      <th>4</th>\n",
       "      <td>5</td>\n",
       "      <td>last day</td>\n",
       "    </tr>\n",
       "    <tr>\n",
       "      <th>5</th>\n",
       "      <td>6</td>\n",
       "      <td>friday christmas</td>\n",
       "    </tr>\n",
       "    <tr>\n",
       "      <th>6</th>\n",
       "      <td>7</td>\n",
       "      <td>timesheets</td>\n",
       "    </tr>\n",
       "    <tr>\n",
       "      <th>7</th>\n",
       "      <td>8</td>\n",
       "      <td>chiefs</td>\n",
       "    </tr>\n",
       "    <tr>\n",
       "      <th>8</th>\n",
       "      <td>9</td>\n",
       "      <td>happy friyay</td>\n",
       "    </tr>\n",
       "    <tr>\n",
       "      <th>9</th>\n",
       "      <td>10</td>\n",
       "      <td>pay day</td>\n",
       "    </tr>\n",
       "    <tr>\n",
       "      <th>10</th>\n",
       "      <td>11</td>\n",
       "      <td>too early</td>\n",
       "    </tr>\n",
       "    <tr>\n",
       "      <th>11</th>\n",
       "      <td>12</td>\n",
       "      <td>rebecca black</td>\n",
       "    </tr>\n",
       "    <tr>\n",
       "      <th>12</th>\n",
       "      <td>13</td>\n",
       "      <td>the weekend</td>\n",
       "    </tr>\n",
       "    <tr>\n",
       "      <th>13</th>\n",
       "      <td>14</td>\n",
       "      <td>pancakes</td>\n",
       "    </tr>\n",
       "    <tr>\n",
       "      <th>14</th>\n",
       "      <td>15</td>\n",
       "      <td>its your birthday</td>\n",
       "    </tr>\n",
       "    <tr>\n",
       "      <th>15</th>\n",
       "      <td>16</td>\n",
       "      <td>betty white</td>\n",
       "    </tr>\n",
       "    <tr>\n",
       "      <th>16</th>\n",
       "      <td>17</td>\n",
       "      <td>hungover</td>\n",
       "    </tr>\n",
       "    <tr>\n",
       "      <th>17</th>\n",
       "      <td>18</td>\n",
       "      <td>soul train</td>\n",
       "    </tr>\n",
       "    <tr>\n",
       "      <th>18</th>\n",
       "      <td>19</td>\n",
       "      <td>breakfast</td>\n",
       "    </tr>\n",
       "    <tr>\n",
       "      <th>19</th>\n",
       "      <td>20</td>\n",
       "      <td>i know nothing</td>\n",
       "    </tr>\n",
       "  </tbody>\n",
       "</table>\n",
       "</div>"
      ],
      "text/plain": [
       "    Rankings      Trending Term\n",
       "0          1        maple syrup\n",
       "1          2    christmas break\n",
       "2          3       winter break\n",
       "3          4       ugly sweater\n",
       "4          5           last day\n",
       "5          6   friday christmas\n",
       "6          7         timesheets\n",
       "7          8             chiefs\n",
       "8          9       happy friyay\n",
       "9         10            pay day\n",
       "10        11          too early\n",
       "11        12      rebecca black\n",
       "12        13        the weekend\n",
       "13        14           pancakes\n",
       "14        15  its your birthday\n",
       "15        16        betty white\n",
       "16        17           hungover\n",
       "17        18         soul train\n",
       "18        19          breakfast\n",
       "19        20     i know nothing"
      ]
     },
     "execution_count": 40,
     "metadata": {},
     "output_type": "execute_result"
    }
   ],
   "source": [
    "# trending(params)\n",
    "\n",
    "params7 = {'api_key':MY_KEY}\n",
    "giphygiphy.trending(params7)"
   ]
  }
 ],
 "metadata": {
  "kernelspec": {
   "display_name": "Python 3",
   "language": "python",
   "name": "python3"
  },
  "language_info": {
   "codemirror_mode": {
    "name": "ipython",
    "version": 3
   },
   "file_extension": ".py",
   "mimetype": "text/x-python",
   "name": "python",
   "nbconvert_exporter": "python",
   "pygments_lexer": "ipython3",
   "version": "3.7.3"
  }
 },
 "nbformat": 4,
 "nbformat_minor": 2
}
